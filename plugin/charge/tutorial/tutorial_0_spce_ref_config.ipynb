{
 "cells": [
  {
   "cell_type": "markdown",
   "metadata": {},
   "source": [
    "# Reference configuration of SPC/E water in non-cuboid domain"
   ]
  },
  {
   "cell_type": "code",
   "execution_count": 1,
   "metadata": {
    "execution": {
     "iopub.execute_input": "2021-09-09T16:37:31.473136Z",
     "iopub.status.busy": "2021-09-09T16:37:31.472226Z",
     "iopub.status.idle": "2021-09-09T16:37:31.529169Z",
     "shell.execute_reply": "2021-09-09T16:37:31.530072Z"
    }
   },
   "outputs": [],
   "source": [
    "import unittest\n",
    "import feasst as fst\n",
    "\n",
    "class TestEwald0SPCE(unittest.TestCase):\n",
    "    def test_srsw(self):\n",
    "        system = fst.System()\n",
    "        system.add(fst.MakeConfiguration(fst.args({\n",
    "            \"side_length0\": \"30.0\",\n",
    "            \"side_length1\": \"28.97777478867205\",\n",
    "            \"side_length2\": \"29.51512917398008\",\n",
    "            \"xy\": \"7.764571353075622\",\n",
    "            \"xz\": \"-2.6146722824297473\",\n",
    "            \"yz\": \"-4.692615336756641\",\n",
    "            \"xyz_file\": fst.install_dir() + \"/plugin/charge/test/data/spce_triclinic_sample_periodic1.xyz\",\n",
    "            \"particle_type0\": fst.install_dir() + \"/forcefield/spce.fstprt\",\n",
    "        })))\n",
    "        system.add(fst.MakePotential(fst.MakeLennardJones()))\n",
    "        system.add(fst.MakePotential(fst.MakeLongRangeCorrections()))\n",
    "        ewald = fst.MakeEwald(fst.args({\n",
    "            'alpha': str(0.2850),\n",
    "            'kxmax': str(7),\n",
    "            'kymax': str(7),\n",
    "            'kzmax': str(7)}))\n",
    "        system.add(fst.MakePotential(ewald))\n",
    "        system.add(fst.MakePotential(fst.MakeChargeScreened()))\n",
    "        system.add(fst.MakePotential(fst.MakeChargeScreenedIntra(),\n",
    "                                     fst.MakeVisitModelBond()))\n",
    "        system.add(fst.MakePotential(fst.MakeChargeSelf()))\n",
    "        system.energy()\n",
    "        print('num_vectors', ewald.num_vectors())\n",
    "        print('kxmax', ewald.kxmax())\n",
    "        print('kymax', ewald.kymax())\n",
    "        print('kzmax', ewald.kzmax())\n",
    "        print('num_kx', ewald.num_kx())\n",
    "        print('num_ky', ewald.num_ky())\n",
    "        print('num_kz', ewald.num_kz())\n",
    "        print('kmax_squared', ewald.kmax_squared())\n",
    "        kindex = 0\n",
    "        print('kindex', kindex)\n",
    "        print('kx, ky, kz',\n",
    "              ewald.wave_num(kindex, 0),\n",
    "              ewald.wave_num(kindex, 1),\n",
    "              ewald.wave_num(kindex, 2))\n",
    "        print('wave_prefactor', ewald.wave_prefactor()[kindex])\n",
    "        print('struct_factor real', ewald.struct_fact_real(kindex))\n",
    "        print('struct_factor imag', ewald.struct_fact_real(kindex))\n",
    "        part_index = 0\n",
    "        site_index = 0\n",
    "        print('eikxr', ewald.eik(part_index, site_index, kindex, 0, True))\n",
    "        print('eikxi', ewald.eik(part_index, site_index, kindex, 0, False))\n",
    "        self.assertAlmostEqual(system.stored_energy_profile()[0], 931.15451, delta=1e-4) #lj\n",
    "        self.assertAlmostEqual(system.stored_energy_profile()[1], -34.16569, delta=1e-4) #lrc\n",
    "        self.assertAlmostEqual(system.stored_energy_profile()[2], 371.46525, delta=1e-4) #fourier\n",
    "        self.assertAlmostEqual(system.stored_energy_profile()[3], -6046.43627, delta=1e-4) #charge screened\n",
    "        self.assertAlmostEqual(system.stored_energy_profile()[4], 95078.89447, delta=1e-4) #intra\n",
    "        self.assertAlmostEqual(system.stored_energy_profile()[5], -96297.75579, delta=1e-4) #self\n"
   ]
  },
  {
   "cell_type": "markdown",
   "metadata": {},
   "source": [
    "If the test passes, the energy is within the tolerance of the SRSW value and the two ensemble average methods agreed."
   ]
  },
  {
   "cell_type": "code",
   "execution_count": 2,
   "metadata": {
    "execution": {
     "iopub.execute_input": "2021-09-09T16:37:31.536106Z",
     "iopub.status.busy": "2021-09-09T16:37:31.535432Z",
     "iopub.status.idle": "2021-09-09T17:08:23.038998Z",
     "shell.execute_reply": "2021-09-09T17:08:23.039434Z"
    }
   },
   "outputs": [
    {
     "name": "stderr",
     "output_type": "stream",
     "text": [
      "test_srsw (__main__.TestEwald0SPCE) ... "
     ]
    },
    {
     "name": "stdout",
     "output_type": "stream",
     "text": [
      "CPU times: user 3 µs, sys: 0 ns, total: 3 µs\n",
      "Wall time: 6.2 µs\n",
      "# Info  [plugin/charge/src/ewald.cpp:189] alpha: 0.285\n",
      "# Info  [plugin/charge/src/ewald.cpp:190] kmax_squared 2.3037\n",
      "num_vectors 831\n",
      "kxmax 7\n",
      "kymax 7\n",
      "kzmax 7\n",
      "num_kx 8\n",
      "num_ky 15\n",
      "num_kz 15\n",
      "kmax_squared 2.3036990918300595\n",
      "kindex 0\n",
      "kx, ky, kz 0 -6 -2\n",
      "wave_prefactor 1.8660742244996213e-07\n",
      "struct_factor real -3.7251965721854834\n",
      "struct_factor imag -3.7251965721854834\n",
      "eikxr 1.0\n",
      "eikxi 0.0\n"
     ]
    },
    {
     "name": "stderr",
     "output_type": "stream",
     "text": [
      "ok\n",
      "\n",
      "----------------------------------------------------------------------\n",
      "Ran 1 test in 0.121s\n",
      "\n",
      "OK\n"
     ]
    },
    {
     "data": {
      "text/plain": [
       "<unittest.main.TestProgram at 0x7fa8d11b0280>"
      ]
     },
     "execution_count": 2,
     "metadata": {},
     "output_type": "execute_result"
    }
   ],
   "source": [
    "%time\n",
    "unittest.main(argv=[''], verbosity=2, exit=False)"
   ]
  },
  {
   "cell_type": "markdown",
   "metadata": {},
   "source": [
    "Did this tutorial work as expected? Did you find any inconsistencies or have any comments? Please [contact](../../../CONTACT.rst) us. Any feedback is appreciated!"
   ]
  }
 ],
 "metadata": {
  "kernelspec": {
   "display_name": "Python 3 (ipykernel)",
   "language": "python",
   "name": "python3"
  },
  "language_info": {
   "codemirror_mode": {
    "name": "ipython",
    "version": 3
   },
   "file_extension": ".py",
   "mimetype": "text/x-python",
   "name": "python",
   "nbconvert_exporter": "python",
   "pygments_lexer": "ipython3",
   "version": "3.8.8"
  }
 },
 "nbformat": 4,
 "nbformat_minor": 2
}
